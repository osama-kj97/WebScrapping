{
 "cells": [
  {
   "cell_type": "markdown",
   "metadata": {},
   "source": [
    "# Project requirement\n",
    "There is a website with the link (https://12996.portal.athenahealth.com/) and needed to: \n",
    "* Go through all clinics pages in the website.\n",
    "* Get the clinic name.\n",
    "* Save all clinic ids and names in a csv file.\n",
    "\n",
    "It is possible to get new clinic page by change the number 12996 for example in the link above with different number."
   ]
  },
  {
   "cell_type": "code",
   "execution_count": 1,
   "metadata": {},
   "outputs": [],
   "source": [
    "import requests\n",
    "from bs4 import BeautifulSoup"
   ]
  },
  {
   "cell_type": "code",
   "execution_count": 2,
   "metadata": {},
   "outputs": [],
   "source": [
    "def get_patient_portal_name(clinic_id):\n",
    "    response = requests.get(f'https://{clinic_id}.portal.athenahealth.com/')\n",
    "\n",
    "    html = response.text\n",
    "\n",
    "    soup = BeautifulSoup(html, 'html.parser')\n",
    "\n",
    "    h1_tags = soup.find_all('h1')\n",
    "    patient_portal_name = h1_tags[-1].text.strip()\n",
    "\n",
    "    return patient_portal_name"
   ]
  },
  {
   "cell_type": "code",
   "execution_count": 3,
   "metadata": {},
   "outputs": [],
   "source": [
    "master_list = []"
   ]
  },
  {
   "cell_type": "markdown",
   "metadata": {},
   "source": [
    "Range here is vary and can make it as chucks as needed to avoid the long time will take when add a big number to go through the links."
   ]
  },
  {
   "cell_type": "code",
   "execution_count": 4,
   "metadata": {},
   "outputs": [
    {
     "name": "stdout",
     "output_type": "stream",
     "text": [
      "Done, man.\n"
     ]
    }
   ],
   "source": [
    "for i in range(21):\n",
    "    \n",
    "    if 'Sorry' not in get_patient_portal_name(i):\n",
    "        if 'Payment Confirmation' not in get_patient_portal_name(i):\n",
    "            data_dict = {}\n",
    "            data_dict['clinic_id'] = i\n",
    "            data_dict['clinic_name'] = get_patient_portal_name(i)\n",
    "            master_list.append(data_dict)\n",
    "print(\"Done, man.\")"
   ]
  },
  {
   "cell_type": "code",
   "execution_count": 5,
   "metadata": {},
   "outputs": [
    {
     "data": {
      "text/plain": [
       "[{'clinic_id': 10, 'clinic_name': 'ANCHOR MEDICAL ASSOCIATES'},\n",
       " {'clinic_id': 14, 'clinic_name': 'DEBORAH S.WOOTEN,MD, LLC'}]"
      ]
     },
     "execution_count": 5,
     "metadata": {},
     "output_type": "execute_result"
    }
   ],
   "source": [
    "master_list"
   ]
  },
  {
   "cell_type": "code",
   "execution_count": 6,
   "metadata": {},
   "outputs": [],
   "source": [
    "import pandas as pd"
   ]
  },
  {
   "cell_type": "code",
   "execution_count": 7,
   "metadata": {},
   "outputs": [],
   "source": [
    "df = pd.DataFrame(master_list)"
   ]
  },
  {
   "cell_type": "code",
   "execution_count": 8,
   "metadata": {},
   "outputs": [
    {
     "data": {
      "text/html": [
       "<div>\n",
       "<style scoped>\n",
       "    .dataframe tbody tr th:only-of-type {\n",
       "        vertical-align: middle;\n",
       "    }\n",
       "\n",
       "    .dataframe tbody tr th {\n",
       "        vertical-align: top;\n",
       "    }\n",
       "\n",
       "    .dataframe thead th {\n",
       "        text-align: right;\n",
       "    }\n",
       "</style>\n",
       "<table border=\"1\" class=\"dataframe\">\n",
       "  <thead>\n",
       "    <tr style=\"text-align: right;\">\n",
       "      <th></th>\n",
       "      <th>clinic_id</th>\n",
       "      <th>clinic_name</th>\n",
       "    </tr>\n",
       "  </thead>\n",
       "  <tbody>\n",
       "    <tr>\n",
       "      <th>0</th>\n",
       "      <td>10</td>\n",
       "      <td>ANCHOR MEDICAL ASSOCIATES</td>\n",
       "    </tr>\n",
       "    <tr>\n",
       "      <th>1</th>\n",
       "      <td>14</td>\n",
       "      <td>DEBORAH S.WOOTEN,MD, LLC</td>\n",
       "    </tr>\n",
       "  </tbody>\n",
       "</table>\n",
       "</div>"
      ],
      "text/plain": [
       "   clinic_id                clinic_name\n",
       "0         10  ANCHOR MEDICAL ASSOCIATES\n",
       "1         14   DEBORAH S.WOOTEN,MD, LLC"
      ]
     },
     "execution_count": 8,
     "metadata": {},
     "output_type": "execute_result"
    }
   ],
   "source": [
    "df"
   ]
  },
  {
   "cell_type": "markdown",
   "metadata": {},
   "source": [
    "When run the for loop above with different ranges the <font color='red'> csv file name need to be change </font> to avoid override the previous file.\n",
    "And with different files it can be combined and get a 1 file as needed."
   ]
  },
  {
   "cell_type": "code",
   "execution_count": 9,
   "metadata": {},
   "outputs": [],
   "source": [
    "df.to_csv('clinic_data.csv', index=False)"
   ]
  }
 ],
 "metadata": {
  "kernelspec": {
   "display_name": "Python 3",
   "language": "python",
   "name": "python3"
  },
  "language_info": {
   "codemirror_mode": {
    "name": "ipython",
    "version": 3
   },
   "file_extension": ".py",
   "mimetype": "text/x-python",
   "name": "python",
   "nbconvert_exporter": "python",
   "pygments_lexer": "ipython3",
   "version": "3.11.1"
  }
 },
 "nbformat": 4,
 "nbformat_minor": 2
}
